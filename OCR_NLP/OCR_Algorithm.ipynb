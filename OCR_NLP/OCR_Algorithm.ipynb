{
  "nbformat": 4,
  "nbformat_minor": 0,
  "metadata": {
    "colab": {
      "provenance": [],
      "gpuType": "T4"
    },
    "kernelspec": {
      "name": "python3",
      "display_name": "Python 3"
    },
    "language_info": {
      "name": "python"
    },
    "accelerator": "GPU"
  },
  "cells": [
    {
      "cell_type": "code",
      "source": [
        "!pip install pytesseract\n",
        "!pip install pdf2image\n",
        "!pip install PyMuPDF\n",
        "!pip install Pillow\n"
      ],
      "metadata": {
        "colab": {
          "base_uri": "https://localhost:8080/"
        },
        "id": "OHUIjZUwNmYK",
        "outputId": "9219019d-65eb-40e1-ee03-abaae476a3bd"
      },
      "execution_count": 1,
      "outputs": [
        {
          "output_type": "stream",
          "name": "stdout",
          "text": [
            "Requirement already satisfied: pytesseract in /usr/local/lib/python3.10/dist-packages (0.3.13)\n",
            "Requirement already satisfied: packaging>=21.3 in /usr/local/lib/python3.10/dist-packages (from pytesseract) (24.1)\n",
            "Requirement already satisfied: Pillow>=8.0.0 in /usr/local/lib/python3.10/dist-packages (from pytesseract) (10.4.0)\n",
            "Requirement already satisfied: pdf2image in /usr/local/lib/python3.10/dist-packages (1.17.0)\n",
            "Requirement already satisfied: pillow in /usr/local/lib/python3.10/dist-packages (from pdf2image) (10.4.0)\n",
            "Requirement already satisfied: PyMuPDF in /usr/local/lib/python3.10/dist-packages (1.18.19)\n",
            "Requirement already satisfied: Pillow in /usr/local/lib/python3.10/dist-packages (10.4.0)\n"
          ]
        }
      ]
    },
    {
      "cell_type": "code",
      "source": [
        "import fitz\n",
        "print(fitz.__doc__)\n"
      ],
      "metadata": {
        "colab": {
          "base_uri": "https://localhost:8080/"
        },
        "id": "YjGHS-mklv7U",
        "outputId": "7bc627f2-e22e-4c4e-b830-b06b0c8b5634"
      },
      "execution_count": 2,
      "outputs": [
        {
          "output_type": "stream",
          "name": "stdout",
          "text": [
            "\n",
            "PyMuPDF 1.18.19: Python bindings for the MuPDF 1.18.0 library.\n",
            "Version date: 2021-09-16 16:45:29.\n",
            "Built for Python 3.10 on linux (64-bit).\n",
            "\n"
          ]
        }
      ]
    },
    {
      "cell_type": "code",
      "source": [
        "!pip install PyMuPDF==1.18.19\n"
      ],
      "metadata": {
        "colab": {
          "base_uri": "https://localhost:8080/",
          "height": 283
        },
        "id": "T6UFDzB3l0nX",
        "outputId": "ed23176c-9006-4ca9-af40-8765b62fa8da"
      },
      "execution_count": 4,
      "outputs": [
        {
          "output_type": "stream",
          "name": "stdout",
          "text": [
            "Collecting PyMuPDF==1.18.19\n",
            "  Downloading PyMuPDF-1.18.19-cp310-cp310-manylinux_2_12_x86_64.manylinux2010_x86_64.whl.metadata (5.1 kB)\n",
            "Downloading PyMuPDF-1.18.19-cp310-cp310-manylinux_2_12_x86_64.manylinux2010_x86_64.whl (6.4 MB)\n",
            "\u001b[2K   \u001b[90m━━━━━━━━━━━━━━━━━━━━━━━━━━━━━━━━━━━━━━━━\u001b[0m \u001b[32m6.4/6.4 MB\u001b[0m \u001b[31m29.4 MB/s\u001b[0m eta \u001b[36m0:00:00\u001b[0m\n",
            "\u001b[?25hInstalling collected packages: PyMuPDF\n",
            "  Attempting uninstall: PyMuPDF\n",
            "    Found existing installation: PyMuPDF 1.24.10\n",
            "    Uninstalling PyMuPDF-1.24.10:\n",
            "      Successfully uninstalled PyMuPDF-1.24.10\n",
            "Successfully installed PyMuPDF-1.18.19\n"
          ]
        },
        {
          "output_type": "display_data",
          "data": {
            "application/vnd.colab-display-data+json": {
              "pip_warning": {
                "packages": [
                  "fitz"
                ]
              },
              "id": "08c15ed5c31e414483962d48e407de4c"
            }
          },
          "metadata": {}
        }
      ]
    },
    {
      "cell_type": "code",
      "source": [
        "!apt-get install -y poppler-utils\n"
      ],
      "metadata": {
        "colab": {
          "base_uri": "https://localhost:8080/"
        },
        "id": "Uhio8GBFmWqw",
        "outputId": "31567ad2-e9d5-458c-e51b-9ac69f2b07ce"
      },
      "execution_count": 3,
      "outputs": [
        {
          "output_type": "stream",
          "name": "stdout",
          "text": [
            "Reading package lists... Done\n",
            "Building dependency tree... Done\n",
            "Reading state information... Done\n",
            "The following NEW packages will be installed:\n",
            "  poppler-utils\n",
            "0 upgraded, 1 newly installed, 0 to remove and 49 not upgraded.\n",
            "Need to get 186 kB of archives.\n",
            "After this operation, 696 kB of additional disk space will be used.\n",
            "Get:1 http://archive.ubuntu.com/ubuntu jammy-updates/main amd64 poppler-utils amd64 22.02.0-2ubuntu0.5 [186 kB]\n",
            "Fetched 186 kB in 0s (759 kB/s)\n",
            "Selecting previously unselected package poppler-utils.\n",
            "(Reading database ... 123605 files and directories currently installed.)\n",
            "Preparing to unpack .../poppler-utils_22.02.0-2ubuntu0.5_amd64.deb ...\n",
            "Unpacking poppler-utils (22.02.0-2ubuntu0.5) ...\n",
            "Setting up poppler-utils (22.02.0-2ubuntu0.5) ...\n",
            "Processing triggers for man-db (2.10.2-1) ...\n"
          ]
        }
      ]
    },
    {
      "cell_type": "code",
      "source": [
        "# Install Tesseract\n",
        "!apt-get install -y tesseract-ocr\n",
        "\n",
        "# Install necessary Python libraries\n",
        "!apt-get install -y poppler-utils\n",
        "!pip install pytesseract pdf2image PyMuPDF Pillow\n"
      ],
      "metadata": {
        "colab": {
          "base_uri": "https://localhost:8080/"
        },
        "id": "Ho8wZx17m7Gk",
        "outputId": "b29a68b4-afab-4322-e8ae-b6def79e6eed"
      },
      "execution_count": 4,
      "outputs": [
        {
          "output_type": "stream",
          "name": "stdout",
          "text": [
            "Reading package lists... Done\n",
            "Building dependency tree... Done\n",
            "Reading state information... Done\n",
            "The following additional packages will be installed:\n",
            "  tesseract-ocr-eng tesseract-ocr-osd\n",
            "The following NEW packages will be installed:\n",
            "  tesseract-ocr tesseract-ocr-eng tesseract-ocr-osd\n",
            "0 upgraded, 3 newly installed, 0 to remove and 49 not upgraded.\n",
            "Need to get 4,816 kB of archives.\n",
            "After this operation, 15.6 MB of additional disk space will be used.\n",
            "Get:1 http://archive.ubuntu.com/ubuntu jammy/universe amd64 tesseract-ocr-eng all 1:4.00~git30-7274cfa-1.1 [1,591 kB]\n",
            "Get:2 http://archive.ubuntu.com/ubuntu jammy/universe amd64 tesseract-ocr-osd all 1:4.00~git30-7274cfa-1.1 [2,990 kB]\n",
            "Get:3 http://archive.ubuntu.com/ubuntu jammy/universe amd64 tesseract-ocr amd64 4.1.1-2.1build1 [236 kB]\n",
            "Fetched 4,816 kB in 0s (16.1 MB/s)\n",
            "Selecting previously unselected package tesseract-ocr-eng.\n",
            "(Reading database ... 123635 files and directories currently installed.)\n",
            "Preparing to unpack .../tesseract-ocr-eng_1%3a4.00~git30-7274cfa-1.1_all.deb ...\n",
            "Unpacking tesseract-ocr-eng (1:4.00~git30-7274cfa-1.1) ...\n",
            "Selecting previously unselected package tesseract-ocr-osd.\n",
            "Preparing to unpack .../tesseract-ocr-osd_1%3a4.00~git30-7274cfa-1.1_all.deb ...\n",
            "Unpacking tesseract-ocr-osd (1:4.00~git30-7274cfa-1.1) ...\n",
            "Selecting previously unselected package tesseract-ocr.\n",
            "Preparing to unpack .../tesseract-ocr_4.1.1-2.1build1_amd64.deb ...\n",
            "Unpacking tesseract-ocr (4.1.1-2.1build1) ...\n",
            "Setting up tesseract-ocr-eng (1:4.00~git30-7274cfa-1.1) ...\n",
            "Setting up tesseract-ocr-osd (1:4.00~git30-7274cfa-1.1) ...\n",
            "Setting up tesseract-ocr (4.1.1-2.1build1) ...\n",
            "Processing triggers for man-db (2.10.2-1) ...\n",
            "Reading package lists... Done\n",
            "Building dependency tree... Done\n",
            "Reading state information... Done\n",
            "poppler-utils is already the newest version (22.02.0-2ubuntu0.5).\n",
            "0 upgraded, 0 newly installed, 0 to remove and 49 not upgraded.\n",
            "Requirement already satisfied: pytesseract in /usr/local/lib/python3.10/dist-packages (0.3.13)\n",
            "Requirement already satisfied: pdf2image in /usr/local/lib/python3.10/dist-packages (1.17.0)\n",
            "Requirement already satisfied: PyMuPDF in /usr/local/lib/python3.10/dist-packages (1.18.19)\n",
            "Requirement already satisfied: Pillow in /usr/local/lib/python3.10/dist-packages (10.4.0)\n",
            "Requirement already satisfied: packaging>=21.3 in /usr/local/lib/python3.10/dist-packages (from pytesseract) (24.1)\n"
          ]
        }
      ]
    },
    {
      "cell_type": "code",
      "execution_count": 10,
      "metadata": {
        "colab": {
          "base_uri": "https://localhost:8080/"
        },
        "id": "A7XTkIC1NYHw",
        "outputId": "06248f4e-eef0-40df-fa7d-aaa0b7fe98ac"
      },
      "outputs": [
        {
          "output_type": "stream",
          "name": "stdout",
          "text": [
            "Renamed PDF files have been saved in: /content/Renamed_PDFs\n"
          ]
        }
      ],
      "source": [
        "#This block will change the names of the pdf , deletes the spaces in the pdf name and saves it in new folder with added underscore\n",
        "\n",
        "import os\n",
        "import shutil\n",
        "\n",
        "# Path to the folder containing the original PDFs\n",
        "input_folder = '/content/CourseDataset'  # Update with your actual folder path\n",
        "# Path to the new folder where renamed PDFs will be saved\n",
        "output_folder = '/content/Renamed_PDFs'\n",
        "\n",
        "# Create the output folder if it doesn't exist\n",
        "os.makedirs(output_folder, exist_ok=True)\n",
        "\n",
        "# Iterate over all files in the input folder\n",
        "for filename in os.listdir(input_folder):\n",
        "    # Check if the file is a PDF\n",
        "    if filename.endswith('.pdf'):\n",
        "        # Remove spaces from the filename\n",
        "        new_filename = filename.replace(' ', '_')  # Replace spaces with underscores, or use new_filename = filename.replace(' ', '') to remove them entirely\n",
        "\n",
        "        # Construct full file paths\n",
        "        old_file_path = os.path.join(input_folder, filename)\n",
        "        new_file_path = os.path.join(output_folder, new_filename)\n",
        "\n",
        "        # Copy the renamed file to the new folder\n",
        "        shutil.copy(old_file_path, new_file_path)\n",
        "\n",
        "print(f\"Renamed PDF files have been saved in: {output_folder}\")\n"
      ]
    },
    {
      "cell_type": "code",
      "source": [
        "#This OCR Algorithm will convert images to text - Extract from pdf , extract text fom image and save it in a new pdf\n",
        "\n",
        "import fitz  # PyMuPDF\n",
        "from pdf2image import convert_from_path\n",
        "import pytesseract\n",
        "import os\n",
        "\n",
        "# Path to your PDF file\n",
        "pdf_path = '/content/CourseDataset/Theory_Session_3.pdf'  # Update with your actual PDF file\n",
        "# Generate the output PDF path by appending \"converted\" to the input file name\n",
        "output_pdf_path = pdf_path.replace('.pdf', '_converted.pdf')\n",
        "\n",
        "# Function to extract text from images in PDF and save to a new PDF\n",
        "def extract_and_create_new_pdf(pdf_path, output_pdf_path):\n",
        "    # Create a new PDF document for output\n",
        "    new_pdf_document = fitz.open()\n",
        "\n",
        "    # Open the original PDF\n",
        "    pdf_document = fitz.open(pdf_path)\n",
        "\n",
        "    # Iterate through the pages\n",
        "    for page_num in range(len(pdf_document)):\n",
        "        page = pdf_document.load_page(page_num)\n",
        "\n",
        "        # Convert PDF page to an image\n",
        "        images = convert_from_path(pdf_path, first_page=page_num + 1, last_page=page_num + 1)\n",
        "\n",
        "        for img in images:\n",
        "            # Use OCR to extract text from the image\n",
        "            text = pytesseract.image_to_string(img)\n",
        "\n",
        "            # Create a new page in the new PDF document\n",
        "            new_page = new_pdf_document.new_page(width=page.rect.width, height=page.rect.height)\n",
        "\n",
        "            # Insert the extracted text into the new page\n",
        "            new_page.insert_text((50, 50), text, fontsize=12)  # Adjust position as needed\n",
        "\n",
        "    # Save the new PDF document\n",
        "    new_pdf_document.save(output_pdf_path)\n",
        "    new_pdf_document.close()\n",
        "    pdf_document.close()\n",
        "\n",
        "# Run the function\n",
        "extract_and_create_new_pdf(pdf_path, output_pdf_path)\n"
      ],
      "metadata": {
        "id": "rlObrh2URJt2"
      },
      "execution_count": 6,
      "outputs": []
    },
    {
      "cell_type": "code",
      "source": [
        "#This OCR Algorithm will convert images to text - Extract from folder , change the pdf and save it in a new folder\n",
        "\n",
        "import fitz  # PyMuPDF\n",
        "from pdf2image import convert_from_path\n",
        "import pytesseract\n",
        "import os\n",
        "\n",
        "# Path to the folder containing the original PDFs\n",
        "input_folder = '/content/Renamed_PDFs'  # Update with your actual folder path\n",
        "# Path to the new folder where converted PDFs will be saved\n",
        "output_folder = '/content/Converted_PDFs'\n",
        "\n",
        "# Create the output folder if it doesn't exist\n",
        "os.makedirs(output_folder, exist_ok=True)\n",
        "\n",
        "# Function to extract text from images in a PDF and save to a new PDF\n",
        "def extract_and_create_new_pdf(pdf_path, output_pdf_path):\n",
        "    # Create a new PDF document for output\n",
        "    new_pdf_document = fitz.open()\n",
        "\n",
        "    # Open the original PDF\n",
        "    pdf_document = fitz.open(pdf_path)\n",
        "\n",
        "    # Iterate through the pages\n",
        "    for page_num in range(len(pdf_document)):\n",
        "        page = pdf_document.load_page(page_num)\n",
        "\n",
        "        # Convert PDF page to an image\n",
        "        images = convert_from_path(pdf_path, first_page=page_num + 1, last_page=page_num + 1)\n",
        "\n",
        "        for img in images:\n",
        "            # Use OCR to extract text from the image\n",
        "            text = pytesseract.image_to_string(img)\n",
        "\n",
        "            # Create a new page in the new PDF document\n",
        "            new_page = new_pdf_document.new_page(width=page.rect.width, height=page.rect.height)\n",
        "\n",
        "            # Insert the extracted text into the new page\n",
        "            new_page.insert_text((50, 50), text, fontsize=12)  # Adjust position as needed\n",
        "\n",
        "    # Save the new PDF document\n",
        "    new_pdf_document.save(output_pdf_path)\n",
        "    new_pdf_document.close()\n",
        "    pdf_document.close()\n",
        "\n",
        "# Process each PDF in the input folder\n",
        "for filename in os.listdir(input_folder):\n",
        "    if filename.endswith('.pdf'):\n",
        "        pdf_path = os.path.join(input_folder, filename)\n",
        "        output_pdf_path = os.path.join(output_folder, filename.replace('.pdf', '_converted.pdf'))\n",
        "\n",
        "        # Run the function for each PDF\n",
        "        extract_and_create_new_pdf(pdf_path, output_pdf_path)\n",
        "\n",
        "print(f\"All PDF files have been processed and saved in: {output_folder}\")\n"
      ],
      "metadata": {
        "colab": {
          "base_uri": "https://localhost:8080/"
        },
        "id": "XdSeVQYYnXoH",
        "outputId": "2ec0a2a1-d5a9-4446-9bd1-b5a0b7423ed5"
      },
      "execution_count": 11,
      "outputs": [
        {
          "output_type": "stream",
          "name": "stdout",
          "text": [
            "All PDF files have been processed and saved in: /content/Converted_PDFs\n"
          ]
        }
      ]
    },
    {
      "cell_type": "code",
      "source": [],
      "metadata": {
        "id": "-e-PasqP1iUQ"
      },
      "execution_count": null,
      "outputs": []
    }
  ]
}