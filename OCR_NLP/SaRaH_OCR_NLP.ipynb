{
  "nbformat": 4,
  "nbformat_minor": 0,
  "metadata": {
    "colab": {
      "provenance": []
    },
    "kernelspec": {
      "name": "python3",
      "display_name": "Python 3"
    },
    "language_info": {
      "name": "python"
    }
  },
  "cells": [
    {
      "cell_type": "code",
      "execution_count": 1,
      "metadata": {
        "colab": {
          "base_uri": "https://localhost:8080/"
        },
        "id": "u678z5YbQZQs",
        "outputId": "c3a24a85-9fe1-4a81-8fc4-72bff46f4dfc"
      },
      "outputs": [
        {
          "output_type": "stream",
          "name": "stdout",
          "text": [
            "Collecting PyMuPDF\n",
            "  Downloading PyMuPDF-1.24.10-cp310-none-manylinux2014_x86_64.whl.metadata (3.4 kB)\n",
            "Requirement already satisfied: Pillow in /usr/local/lib/python3.10/dist-packages (10.4.0)\n",
            "Collecting pytesseract\n",
            "  Downloading pytesseract-0.3.13-py3-none-any.whl.metadata (11 kB)\n",
            "Collecting PyMuPDFb==1.24.10 (from PyMuPDF)\n",
            "  Downloading PyMuPDFb-1.24.10-py3-none-manylinux2014_x86_64.manylinux_2_17_x86_64.whl.metadata (1.4 kB)\n",
            "Requirement already satisfied: packaging>=21.3 in /usr/local/lib/python3.10/dist-packages (from pytesseract) (24.1)\n",
            "Downloading PyMuPDF-1.24.10-cp310-none-manylinux2014_x86_64.whl (3.5 MB)\n",
            "\u001b[2K   \u001b[90m━━━━━━━━━━━━━━━━━━━━━━━━━━━━━━━━━━━━━━━━\u001b[0m \u001b[32m3.5/3.5 MB\u001b[0m \u001b[31m28.0 MB/s\u001b[0m eta \u001b[36m0:00:00\u001b[0m\n",
            "\u001b[?25hDownloading PyMuPDFb-1.24.10-py3-none-manylinux2014_x86_64.manylinux_2_17_x86_64.whl (15.9 MB)\n",
            "\u001b[2K   \u001b[90m━━━━━━━━━━━━━━━━━━━━━━━━━━━━━━━━━━━━━━━━\u001b[0m \u001b[32m15.9/15.9 MB\u001b[0m \u001b[31m63.1 MB/s\u001b[0m eta \u001b[36m0:00:00\u001b[0m\n",
            "\u001b[?25hDownloading pytesseract-0.3.13-py3-none-any.whl (14 kB)\n",
            "Installing collected packages: pytesseract, PyMuPDFb, PyMuPDF\n",
            "Successfully installed PyMuPDF-1.24.10 PyMuPDFb-1.24.10 pytesseract-0.3.13\n"
          ]
        }
      ],
      "source": [
        "!pip install PyMuPDF Pillow pytesseract"
      ]
    },
    {
      "cell_type": "code",
      "source": [
        "!pip install tesseract"
      ],
      "metadata": {
        "colab": {
          "base_uri": "https://localhost:8080/"
        },
        "id": "XJKLQL947w9O",
        "outputId": "93714a69-55d3-4795-bd65-4fd0ddd5cfce"
      },
      "execution_count": 14,
      "outputs": [
        {
          "output_type": "stream",
          "name": "stdout",
          "text": [
            "Collecting tesseract\n",
            "  Downloading tesseract-0.1.3.tar.gz (45.6 MB)\n",
            "\u001b[2K     \u001b[90m━━━━━━━━━━━━━━━━━━━━━━━━━━━━━━━━━━━━━━━━\u001b[0m \u001b[32m45.6/45.6 MB\u001b[0m \u001b[31m12.6 MB/s\u001b[0m eta \u001b[36m0:00:00\u001b[0m\n",
            "\u001b[?25h  Preparing metadata (setup.py) ... \u001b[?25l\u001b[?25hdone\n",
            "Building wheels for collected packages: tesseract\n",
            "  Building wheel for tesseract (setup.py) ... \u001b[?25l\u001b[?25hdone\n",
            "  Created wheel for tesseract: filename=tesseract-0.1.3-py3-none-any.whl size=45562552 sha256=d1bf43086cef963a95b66757864f38687c0d7665b8bf3d48cc948df373efe269\n",
            "  Stored in directory: /root/.cache/pip/wheels/71/c9/aa/698c579693e83fdda9ad6d6f0d8f61ed986e27925ef576f109\n",
            "Successfully built tesseract\n",
            "Installing collected packages: tesseract\n",
            "Successfully installed tesseract-0.1.3\n"
          ]
        }
      ]
    },
    {
      "cell_type": "code",
      "source": [
        "!apt-get install -y tesseract-ocr\n",
        "!pip install pytesseract PyMuPDF pillow"
      ],
      "metadata": {
        "colab": {
          "base_uri": "https://localhost:8080/"
        },
        "id": "cZzvDAMA9Z4l",
        "outputId": "12e960d4-5216-420d-ca18-81f40c2a2035"
      },
      "execution_count": 16,
      "outputs": [
        {
          "output_type": "stream",
          "name": "stdout",
          "text": [
            "Reading package lists... Done\n",
            "Building dependency tree... Done\n",
            "Reading state information... Done\n",
            "The following additional packages will be installed:\n",
            "  tesseract-ocr-eng tesseract-ocr-osd\n",
            "The following NEW packages will be installed:\n",
            "  tesseract-ocr tesseract-ocr-eng tesseract-ocr-osd\n",
            "0 upgraded, 3 newly installed, 0 to remove and 49 not upgraded.\n",
            "Need to get 4,816 kB of archives.\n",
            "After this operation, 15.6 MB of additional disk space will be used.\n",
            "Get:1 http://archive.ubuntu.com/ubuntu jammy/universe amd64 tesseract-ocr-eng all 1:4.00~git30-7274cfa-1.1 [1,591 kB]\n",
            "Get:2 http://archive.ubuntu.com/ubuntu jammy/universe amd64 tesseract-ocr-osd all 1:4.00~git30-7274cfa-1.1 [2,990 kB]\n",
            "Get:3 http://archive.ubuntu.com/ubuntu jammy/universe amd64 tesseract-ocr amd64 4.1.1-2.1build1 [236 kB]\n",
            "Fetched 4,816 kB in 1s (4,292 kB/s)\n",
            "Selecting previously unselected package tesseract-ocr-eng.\n",
            "(Reading database ... 123614 files and directories currently installed.)\n",
            "Preparing to unpack .../tesseract-ocr-eng_1%3a4.00~git30-7274cfa-1.1_all.deb ...\n",
            "Unpacking tesseract-ocr-eng (1:4.00~git30-7274cfa-1.1) ...\n",
            "Selecting previously unselected package tesseract-ocr-osd.\n",
            "Preparing to unpack .../tesseract-ocr-osd_1%3a4.00~git30-7274cfa-1.1_all.deb ...\n",
            "Unpacking tesseract-ocr-osd (1:4.00~git30-7274cfa-1.1) ...\n",
            "Selecting previously unselected package tesseract-ocr.\n",
            "Preparing to unpack .../tesseract-ocr_4.1.1-2.1build1_amd64.deb ...\n",
            "Unpacking tesseract-ocr (4.1.1-2.1build1) ...\n",
            "Setting up tesseract-ocr-eng (1:4.00~git30-7274cfa-1.1) ...\n",
            "Setting up tesseract-ocr-osd (1:4.00~git30-7274cfa-1.1) ...\n",
            "Setting up tesseract-ocr (4.1.1-2.1build1) ...\n",
            "Processing triggers for man-db (2.10.2-1) ...\n",
            "Requirement already satisfied: pytesseract in /usr/local/lib/python3.10/dist-packages (0.3.13)\n",
            "Requirement already satisfied: PyMuPDF in /usr/local/lib/python3.10/dist-packages (1.24.10)\n",
            "Requirement already satisfied: pillow in /usr/local/lib/python3.10/dist-packages (10.4.0)\n",
            "Requirement already satisfied: packaging>=21.3 in /usr/local/lib/python3.10/dist-packages (from pytesseract) (24.1)\n",
            "Requirement already satisfied: PyMuPDFb==1.24.10 in /usr/local/lib/python3.10/dist-packages (from PyMuPDF) (1.24.10)\n"
          ]
        }
      ]
    },
    {
      "cell_type": "code",
      "source": [
        "import fitz  # PyMuPDF\n",
        "import os\n",
        "import re\n",
        "import io\n",
        "from PIL import Image\n",
        "import pytesseract\n",
        "\n",
        "def clean_text(text):\n",
        "    # Remove special characters and excessive spaces\n",
        "    cleaned = re.sub(r'\\s+', ' ', text)  # Replace multiple spaces with a single space\n",
        "    cleaned = re.sub(r'[^\\w\\s]', '', cleaned)  # Remove special characters\n",
        "    return cleaned.strip()\n",
        "\n",
        "def extract_text_from_image(image):\n",
        "    return pytesseract.image_to_string(image)\n",
        "\n",
        "def clean_filename(filename):\n",
        "    # Remove numbers and special characters from the filename\n",
        "    cleaned = re.sub(r'[0-9_-]', '', filename)  # Remove numbers, underscores, and dashes\n",
        "    cleaned = re.sub(r'\\s+', ' ', cleaned).strip()  # Replace multiple spaces with a single space\n",
        "    return cleaned + \"_cleaned.pdf\"\n",
        "\n",
        "def process_pdf(input_pdf_path, output_folder):\n",
        "    doc = fitz.open(input_pdf_path)\n",
        "    all_text = []\n",
        "\n",
        "    for page in doc:\n",
        "        # Extract text from the page\n",
        "        text = page.get_text()\n",
        "        all_text.append(clean_text(text))\n",
        "\n",
        "        # Extract images and perform OCR\n",
        "        image_list = page.get_images(full=True)  # Get all images on the page\n",
        "        for img_index, img in enumerate(image_list):\n",
        "            xref = img[0]  # Image xref\n",
        "            base_image = doc.extract_image(xref)  # Extract the image\n",
        "            image_bytes = base_image[\"image\"]  # Get the image bytes\n",
        "            image = Image.open(io.BytesIO(image_bytes))  # Open image from bytes\n",
        "            ocr_text = extract_text_from_image(image)\n",
        "            all_text.append(clean_text(ocr_text))\n",
        "\n",
        "    all_text = \"\\n\".join(all_text).strip()  # Combine all cleaned text\n",
        "\n",
        "    # Prepare output PDF\n",
        "    output_pdf_name = clean_filename(os.path.basename(input_pdf_path))  # Clean the filename\n",
        "    output_pdf_path = os.path.join(output_folder, output_pdf_name)\n",
        "\n",
        "    # Create a new PDF to save the text\n",
        "    cleaned_doc = fitz.open()\n",
        "\n",
        "    # Define A4 page dimensions and margins\n",
        "    page_width = 595  # A4 width in points\n",
        "    page_height = 842  # A4 height in points\n",
        "    margin = 72  # 1 inch margin\n",
        "\n",
        "    # Split the text into smaller blocks to fit on the page\n",
        "    text_blocks = all_text.split('\\n')\n",
        "\n",
        "    # Create the first page\n",
        "    cleaned_page = cleaned_doc.new_page(width=page_width, height=page_height)\n",
        "\n",
        "    text_area_height = page_height - 2 * margin  # Usable height on the page\n",
        "    text_box = fitz.Rect(margin, margin, page_width - margin, page_height - margin)\n",
        "    text_to_insert = \"\"\n",
        "\n",
        "    for block in text_blocks:\n",
        "        temp_insert = text_to_insert + block + \"\\n\"\n",
        "\n",
        "        # Test if the current block fits within the page's text area\n",
        "        if cleaned_page.insert_textbox(text_box, temp_insert, fontsize=12, color=(0, 0, 0)) <= 0:\n",
        "            # If the text doesn't fit, finalize the current page and start a new one\n",
        "            cleaned_page.insert_textbox(text_box, text_to_insert, fontsize=12, color=(0, 0, 0))\n",
        "            cleaned_page = cleaned_doc.new_page(width=page_width, height=page_height)  # New page\n",
        "            text_to_insert = block + \"\\n\"  # Start new page with current block\n",
        "        else:\n",
        "            text_to_insert = temp_insert  # Add block to current page\n",
        "\n",
        "    # Insert any remaining text on the last page\n",
        "    if text_to_insert.strip():\n",
        "        cleaned_page.insert_textbox(text_box, text_to_insert, fontsize=12, color=(0, 0, 0))\n",
        "\n",
        "    cleaned_doc.save(output_pdf_path)\n",
        "    cleaned_doc.close()\n",
        "    doc.close()\n",
        "\n",
        "# Specify input directory and output folder\n",
        "input_folder = '/content/data'  # Replace with your input folder path\n",
        "output_folder = '/content/cleanedData'  # Replace with your output folder path\n",
        "\n",
        "# Create output folder if it doesn't exist\n",
        "if not os.path.exists(output_folder):\n",
        "    os.makedirs(output_folder)\n",
        "\n",
        "# Process all PDF files in the input folder\n",
        "for filename in os.listdir(input_folder):\n",
        "    if filename.endswith('.pdf'):\n",
        "        process_pdf(os.path.join(input_folder, filename), output_folder)\n",
        "\n",
        "print(\"Processing complete. Cleaned PDFs saved in:\", output_folder)\n"
      ],
      "metadata": {
        "colab": {
          "base_uri": "https://localhost:8080/"
        },
        "id": "s3jA6s2MQvd7",
        "outputId": "0dc61e2b-bbce-415b-9c71-b332ec0b0b15"
      },
      "execution_count": 19,
      "outputs": [
        {
          "output_type": "stream",
          "name": "stdout",
          "text": [
            "Processing complete. Cleaned PDFs saved in: /content/cleanedData\n"
          ]
        }
      ]
    },
    {
      "cell_type": "code",
      "source": [],
      "metadata": {
        "id": "YOuMsyDWRGVO"
      },
      "execution_count": null,
      "outputs": []
    }
  ]
}